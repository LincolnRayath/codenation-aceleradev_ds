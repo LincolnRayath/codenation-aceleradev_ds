{
 "cells": [
  {
   "cell_type": "code",
   "execution_count": 1,
   "metadata": {},
   "outputs": [],
   "source": [
    "import pandas as pd\n",
    "import numpy as np"
   ]
  },
  {
   "cell_type": "code",
   "execution_count": 2,
   "metadata": {},
   "outputs": [],
   "source": [
    "df = pd.read_csv(\"desafio1.csv\")"
   ]
  },
  {
   "cell_type": "code",
   "execution_count": 3,
   "metadata": {},
   "outputs": [
    {
     "data": {
      "text/html": [
       "<div>\n",
       "<style scoped>\n",
       "    .dataframe tbody tr th:only-of-type {\n",
       "        vertical-align: middle;\n",
       "    }\n",
       "\n",
       "    .dataframe tbody tr th {\n",
       "        vertical-align: top;\n",
       "    }\n",
       "\n",
       "    .dataframe thead th {\n",
       "        text-align: right;\n",
       "    }\n",
       "</style>\n",
       "<table border=\"1\" class=\"dataframe\">\n",
       "  <thead>\n",
       "    <tr style=\"text-align: right;\">\n",
       "      <th></th>\n",
       "      <th>RowNumber</th>\n",
       "      <th>id</th>\n",
       "      <th>sobrenome</th>\n",
       "      <th>pontuacao_credito</th>\n",
       "      <th>estado_residencia</th>\n",
       "      <th>genero</th>\n",
       "      <th>idade</th>\n",
       "      <th>nivel_estabilidade</th>\n",
       "      <th>saldo_conta</th>\n",
       "      <th>numero_produtos</th>\n",
       "      <th>possui_cartao_de_credito</th>\n",
       "      <th>membro_ativo</th>\n",
       "    </tr>\n",
       "  </thead>\n",
       "  <tbody>\n",
       "    <tr>\n",
       "      <th>0</th>\n",
       "      <td>1</td>\n",
       "      <td>e7f44fcbd380d4cef7e6c232cc7e37895c3fd197</td>\n",
       "      <td>6d6e0aa1b9b413e442e2fb68df14b4fc3f91de50</td>\n",
       "      <td>619</td>\n",
       "      <td>SC</td>\n",
       "      <td>F</td>\n",
       "      <td>42</td>\n",
       "      <td>2</td>\n",
       "      <td>0.00</td>\n",
       "      <td>1</td>\n",
       "      <td>1</td>\n",
       "      <td>1</td>\n",
       "    </tr>\n",
       "    <tr>\n",
       "      <th>1</th>\n",
       "      <td>2</td>\n",
       "      <td>28dcb083ad90512da16b9430085c2cddb8ca5e12</td>\n",
       "      <td>48e1ad846796fa314f1b4a6702b83343eb5482c5</td>\n",
       "      <td>608</td>\n",
       "      <td>RS</td>\n",
       "      <td>F</td>\n",
       "      <td>41</td>\n",
       "      <td>1</td>\n",
       "      <td>83807.86</td>\n",
       "      <td>1</td>\n",
       "      <td>0</td>\n",
       "      <td>1</td>\n",
       "    </tr>\n",
       "    <tr>\n",
       "      <th>2</th>\n",
       "      <td>3</td>\n",
       "      <td>774bc378f787438c9c7594e536787d07a097a54b</td>\n",
       "      <td>f2b29d5d934de615812b697132e767dea0f1e9e2</td>\n",
       "      <td>502</td>\n",
       "      <td>SC</td>\n",
       "      <td>F</td>\n",
       "      <td>42</td>\n",
       "      <td>8</td>\n",
       "      <td>159660.80</td>\n",
       "      <td>3</td>\n",
       "      <td>1</td>\n",
       "      <td>0</td>\n",
       "    </tr>\n",
       "  </tbody>\n",
       "</table>\n",
       "</div>"
      ],
      "text/plain": [
       "   RowNumber                                        id  \\\n",
       "0          1  e7f44fcbd380d4cef7e6c232cc7e37895c3fd197   \n",
       "1          2  28dcb083ad90512da16b9430085c2cddb8ca5e12   \n",
       "2          3  774bc378f787438c9c7594e536787d07a097a54b   \n",
       "\n",
       "                                  sobrenome  pontuacao_credito  \\\n",
       "0  6d6e0aa1b9b413e442e2fb68df14b4fc3f91de50                619   \n",
       "1  48e1ad846796fa314f1b4a6702b83343eb5482c5                608   \n",
       "2  f2b29d5d934de615812b697132e767dea0f1e9e2                502   \n",
       "\n",
       "  estado_residencia genero  idade  nivel_estabilidade  saldo_conta  \\\n",
       "0                SC      F     42                   2         0.00   \n",
       "1                RS      F     41                   1     83807.86   \n",
       "2                SC      F     42                   8    159660.80   \n",
       "\n",
       "   numero_produtos  possui_cartao_de_credito  membro_ativo  \n",
       "0                1                         1             1  \n",
       "1                1                         0             1  \n",
       "2                3                         1             0  "
      ]
     },
     "execution_count": 3,
     "metadata": {},
     "output_type": "execute_result"
    }
   ],
   "source": [
    "df.head(3)"
   ]
  },
  {
   "cell_type": "code",
   "execution_count": 4,
   "metadata": {},
   "outputs": [
    {
     "data": {
      "text/plain": [
       "0    850\n",
       "dtype: int64"
      ]
     },
     "execution_count": 4,
     "metadata": {},
     "output_type": "execute_result"
    }
   ],
   "source": [
    "df.pontuacao_credito.mode()"
   ]
  },
  {
   "cell_type": "code",
   "execution_count": 5,
   "metadata": {},
   "outputs": [],
   "source": [
    "df_estados = df.groupby('estado_residencia')['pontuacao_credito'].agg([pd.Series.mode,\n",
    "                                                                      np.median,\n",
    "                                                                      np.mean,\n",
    "                                                                      np.std])"
   ]
  },
  {
   "cell_type": "code",
   "execution_count": 9,
   "metadata": {},
   "outputs": [],
   "source": [
    "df_estados = df_estados.rename(columns = {'mode' : 'moda',\n",
    "                                        'median' : 'mediana',\n",
    "                                        'mean' : 'media',\n",
    "                                        'std' : 'desvio_padrao'}).sort_values(by='estado_residencia', ascending=False)"
   ]
  },
  {
   "cell_type": "code",
   "execution_count": 12,
   "metadata": {},
   "outputs": [],
   "source": [
    "json = df_estados.T"
   ]
  },
  {
   "cell_type": "code",
   "execution_count": 13,
   "metadata": {},
   "outputs": [
    {
     "data": {
      "text/html": [
       "<div>\n",
       "<style scoped>\n",
       "    .dataframe tbody tr th:only-of-type {\n",
       "        vertical-align: middle;\n",
       "    }\n",
       "\n",
       "    .dataframe tbody tr th {\n",
       "        vertical-align: top;\n",
       "    }\n",
       "\n",
       "    .dataframe thead th {\n",
       "        text-align: right;\n",
       "    }\n",
       "</style>\n",
       "<table border=\"1\" class=\"dataframe\">\n",
       "  <thead>\n",
       "    <tr style=\"text-align: right;\">\n",
       "      <th>estado_residencia</th>\n",
       "      <th>SC</th>\n",
       "      <th>RS</th>\n",
       "      <th>PR</th>\n",
       "    </tr>\n",
       "  </thead>\n",
       "  <tbody>\n",
       "    <tr>\n",
       "      <th>moda</th>\n",
       "      <td>850.000000</td>\n",
       "      <td>850.000000</td>\n",
       "      <td>850.000000</td>\n",
       "    </tr>\n",
       "    <tr>\n",
       "      <th>mediana</th>\n",
       "      <td>653.000000</td>\n",
       "      <td>650.000000</td>\n",
       "      <td>650.000000</td>\n",
       "    </tr>\n",
       "    <tr>\n",
       "      <th>media</th>\n",
       "      <td>649.537653</td>\n",
       "      <td>651.105143</td>\n",
       "      <td>648.961294</td>\n",
       "    </tr>\n",
       "    <tr>\n",
       "      <th>desvio_padrao</th>\n",
       "      <td>97.233493</td>\n",
       "      <td>95.136598</td>\n",
       "      <td>98.607186</td>\n",
       "    </tr>\n",
       "  </tbody>\n",
       "</table>\n",
       "</div>"
      ],
      "text/plain": [
       "estado_residencia          SC          RS          PR\n",
       "moda               850.000000  850.000000  850.000000\n",
       "mediana            653.000000  650.000000  650.000000\n",
       "media              649.537653  651.105143  648.961294\n",
       "desvio_padrao       97.233493   95.136598   98.607186"
      ]
     },
     "execution_count": 13,
     "metadata": {},
     "output_type": "execute_result"
    }
   ],
   "source": [
    "json"
   ]
  },
  {
   "cell_type": "code",
   "execution_count": 15,
   "metadata": {},
   "outputs": [],
   "source": [
    "json.to_json('submission.json', orient='columns')"
   ]
  }
 ],
 "metadata": {
  "kernelspec": {
   "display_name": "Python 3",
   "language": "python",
   "name": "python3"
  },
  "language_info": {
   "codemirror_mode": {
    "name": "ipython",
    "version": 3
   },
   "file_extension": ".py",
   "mimetype": "text/x-python",
   "name": "python",
   "nbconvert_exporter": "python",
   "pygments_lexer": "ipython3",
   "version": "3.7.2"
  }
 },
 "nbformat": 4,
 "nbformat_minor": 4
}
